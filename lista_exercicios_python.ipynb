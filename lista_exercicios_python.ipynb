{
  "nbformat": 4,
  "nbformat_minor": 0,
  "metadata": {
    "colab": {
      "name": "lista exercicios python.ipynb",
      "provenance": [],
      "authorship_tag": "ABX9TyN1URIfpPq9f2F2E8W7IcTr",
      "include_colab_link": true
    },
    "kernelspec": {
      "name": "python3",
      "display_name": "Python 3"
    },
    "language_info": {
      "name": "python"
    }
  },
  "cells": [
    {
      "cell_type": "markdown",
      "metadata": {
        "id": "view-in-github",
        "colab_type": "text"
      },
      "source": [
        "<a href=\"https://colab.research.google.com/github/wars2/Analise-Dados-FAE/blob/main/lista_exercicios_python.ipynb\" target=\"_parent\"><img src=\"https://colab.research.google.com/assets/colab-badge.svg\" alt=\"Open In Colab\"/></a>"
      ]
    },
    {
      "cell_type": "markdown",
      "metadata": {
        "id": "T3CoJiqTswLk"
      },
      "source": [
        "# Lista de exercícios de python"
      ]
    },
    {
      "cell_type": "markdown",
      "metadata": {
        "id": "AZAaIFh6s4C4"
      },
      "source": [
        "## Questão 1"
      ]
    },
    {
      "cell_type": "code",
      "metadata": {
        "id": "HtpugDnZs8il"
      },
      "source": [
        "tempC = float(input('digite uma temperatura em Celsius: '))\n",
        "tempF = tempC * (9 / 5) + 32\n",
        "print(str(tempC) + ' graus Celsius corresponde a ' + str(tempF) + ' graus Fahrenheit')"
      ],
      "execution_count": null,
      "outputs": []
    },
    {
      "cell_type": "markdown",
      "metadata": {
        "id": "prNAwebOxnoF"
      },
      "source": [
        "## Questão 2"
      ]
    },
    {
      "cell_type": "code",
      "metadata": {
        "id": "QOh8ZFlKyn_E"
      },
      "source": [
        "import math\n",
        "\n",
        "a = float(input('digite a '))\n",
        "b = float(input('digite b '))\n",
        "c = float(input('digite c '))\n",
        "\n",
        "delta = b**2-4*a*c\n",
        "\n",
        "if delta > 0:\n",
        "  x1 =(-b+math.sqrt(delta))/(2*a)\n",
        "  x2 =(-b-math.sqrt(delta))/(2*a)\n",
        "  print('2 raizes reais: ' + str(x1) + ' e ' + str(x2))\n",
        "\n",
        "elif delta == 0:\n",
        "  x1 =(-b)/(2*a)\n",
        "  x2 =x1\n",
        "  print('2 raizes reais e iguais: ' + str(x1) + ' e ' + str(x2))\n",
        "  \n",
        "else:\n",
        "  x1_re =(-b)/(2*a)\n",
        "  x1_im =(math.sqrt(-delta))/(2*a)\n",
        "  x2_re =x1_re\n",
        "  x2_im =(-math.sqrt(-delta))/(2*a)\n",
        "  print('2 raizes complexas: ' + str(x1_re) + ' + ' + str(x1_im) + 'i e ' + str(x2_re) + ' + ' + str(x2_im) + 'i')"
      ],
      "execution_count": null,
      "outputs": []
    },
    {
      "cell_type": "markdown",
      "metadata": {
        "id": "2oJ0oy84xoEp"
      },
      "source": [
        "## Questão 3"
      ]
    },
    {
      "cell_type": "code",
      "metadata": {
        "id": "83qEt3THypEa"
      },
      "source": [
        "num = int(input('digite um numero: '))\n",
        "if num%2:\n",
        "  print(str(num) + ' é impar')\n",
        "else:\n",
        "  print(str(num) + ' é par')"
      ],
      "execution_count": null,
      "outputs": []
    },
    {
      "cell_type": "markdown",
      "metadata": {
        "id": "9lNu9elQxoLi"
      },
      "source": [
        "## Questão 4"
      ]
    },
    {
      "cell_type": "code",
      "metadata": {
        "id": "NaRyU_Kayqnq"
      },
      "source": [
        "def mru(v, t, s0=0):\n",
        "  return s0+v*t\n",
        "\n",
        "print(mru(3,5, s0=8))"
      ],
      "execution_count": null,
      "outputs": []
    },
    {
      "cell_type": "markdown",
      "metadata": {
        "id": "FNG0rjYoxoR3"
      },
      "source": [
        "## Questão 5"
      ]
    },
    {
      "cell_type": "code",
      "metadata": {
        "id": "nrf7VkdbyrQb"
      },
      "source": [
        "a = input('entre com um string: ')\n",
        "if ('s' in a) or ('S' in a):\n",
        "  print('\"s\" esta contido na string')\n",
        "else:\n",
        "  print('\"s\" não esta contido na string')"
      ],
      "execution_count": null,
      "outputs": []
    },
    {
      "cell_type": "markdown",
      "metadata": {
        "id": "dRBfxmWLxoYa"
      },
      "source": [
        "## Questão 6"
      ]
    },
    {
      "cell_type": "code",
      "metadata": {
        "id": "JwpDzZbaysHM"
      },
      "source": [
        "n_prime = 0\n",
        "num = 0\n",
        "\n",
        "while (n_prime<100):\n",
        "\n",
        "  if num > 1:\n",
        " \n",
        "    for i in range(2, num//2+1):\n",
        " \n",
        "      if (num % i) == 0:\n",
        "        #print(num, \" não é um numero primo\")\n",
        "        num+=1\n",
        "        break\n",
        "    else:\n",
        "      n_prime+=1\n",
        "      print(num, \"é o\", n_prime, \"º numero primo\")\n",
        "      num+=1\n",
        " \n",
        "  else:\n",
        "    #print(num, \" não é um numero primo\")\n",
        "    num+=1"
      ],
      "execution_count": null,
      "outputs": []
    },
    {
      "cell_type": "markdown",
      "metadata": {
        "id": "xm-rh8ezxofE"
      },
      "source": [
        "## Questão 7"
      ]
    },
    {
      "cell_type": "code",
      "metadata": {
        "id": "OQzSkws-ytYy"
      },
      "source": [
        "nomes = [' marCELo', 'fabiana', ' MArta ', 'ELIAS']\n",
        "for i in range(len(nomes)):\n",
        "  nomes[i] = nomes[i].replace(' ', '')\n",
        "  nomes[i] = nomes[i].title()\n",
        "print(nomes)"
      ],
      "execution_count": null,
      "outputs": []
    },
    {
      "cell_type": "markdown",
      "metadata": {
        "id": "EKVpwSETxoly"
      },
      "source": [
        "## Questão 8"
      ]
    },
    {
      "cell_type": "code",
      "metadata": {
        "id": "JtuukFIWyusb"
      },
      "source": [
        "nomes = ['carlos', 'carlos', 'leonardo', 'carlos', 'roberto', 'maria', 'gabriela', 2, 2, 2, 3, 3, 4, 'guilherme', 'gustavo']\n",
        "nomes = list(dict.fromkeys(nomes))\n",
        "print(nomes)"
      ],
      "execution_count": null,
      "outputs": []
    },
    {
      "cell_type": "markdown",
      "metadata": {
        "id": "uhB4ZyJAxosr"
      },
      "source": [
        "## Questão 9"
      ]
    },
    {
      "cell_type": "code",
      "metadata": {
        "id": "5cyQOEhHyvXy"
      },
      "source": [
        " primeiro_nome = ['Pedro', 'Patricia', 'Lilian', 'Monica']\n",
        " ultimo_nome = ['Machado', 'Oliveira', 'Silva', 'Nunes']\n",
        "\n",
        " nome_completo = []\n",
        "\n",
        " for i in range(len(primeiro_nome)):\n",
        "   nome_completo.append(primeiro_nome[i] + ' ' + ultimo_nome[i])\n",
        "\n",
        "print(nome_completo)"
      ],
      "execution_count": null,
      "outputs": []
    },
    {
      "cell_type": "markdown",
      "metadata": {
        "id": "4g7D3bN7xoy3"
      },
      "source": [
        "## Questão 10"
      ]
    },
    {
      "cell_type": "code",
      "metadata": {
        "id": "Dc9AYo3lywBK"
      },
      "source": [
        "lista = [1,12,13,6,7,9]\n",
        "lista_filtrada=[]\n",
        "for i in lista:\n",
        "  if i<10:\n",
        "    lista_filtrada.append(i)\n",
        "print(lista)\n",
        "print(lista_filtrada)"
      ],
      "execution_count": null,
      "outputs": []
    },
    {
      "cell_type": "markdown",
      "metadata": {
        "id": "C3kuopOpxo5h"
      },
      "source": [
        "## Questão 11"
      ]
    },
    {
      "cell_type": "code",
      "metadata": {
        "id": "Qb8CItB9yxMF"
      },
      "source": [
        " pessoas = { 'Marcelo': 'azul', 'Lilian': 'marrom', 'Bruna': 'azul', 'Leandro': 'marrom', 'Tadeu': 'verde'}\n",
        "\n",
        " for i in pessoas:\n",
        "   print('{} tem olhos {}'.format(i, pessoas.get(i)))"
      ],
      "execution_count": null,
      "outputs": []
    },
    {
      "cell_type": "markdown",
      "metadata": {
        "id": "tBiXIQPqxpAG"
      },
      "source": [
        "## Questão 12"
      ]
    },
    {
      "cell_type": "code",
      "metadata": {
        "id": "QWI4aMaFyx7J"
      },
      "source": [
        "func2 = lambda x: 2*x-1\n",
        "\n",
        "lista_teste = [1,2,3,4,5,6,7,8,9]\n",
        "\n",
        "list(map(func2, lista_teste))"
      ],
      "execution_count": null,
      "outputs": []
    },
    {
      "cell_type": "markdown",
      "metadata": {
        "id": "dmMADRoGxpGf"
      },
      "source": [
        "## Questão 13"
      ]
    },
    {
      "cell_type": "code",
      "metadata": {
        "id": "7-NZok0Kyyxj"
      },
      "source": [
        "import functools\n",
        "\n",
        "func3 = lambda x, y: x*y\n",
        "\n",
        "lista_teste = [1,2,3,4]\n",
        "\n",
        "print(functools.reduce(func3, lista_teste))"
      ],
      "execution_count": null,
      "outputs": []
    }
  ]
}