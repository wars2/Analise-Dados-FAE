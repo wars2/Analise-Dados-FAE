{
  "nbformat": 4,
  "nbformat_minor": 0,
  "metadata": {
    "colab": {
      "name": "lista exercicios python.ipynb",
      "provenance": [],
      "authorship_tag": "ABX9TyN1URIfpPq9f2F2E8W7IcTr",
      "include_colab_link": true
    },
    "kernelspec": {
      "name": "python3",
      "display_name": "Python 3"
    },
    "language_info": {
      "name": "python"
    }
  },
  "cells": [
    {
      "cell_type": "markdown",
      "metadata": {
        "id": "view-in-github",
        "colab_type": "text"
      },
      "source": [
        "<a href=\"https://colab.research.google.com/github/wars2/Analise-Dados-FAE/blob/main/lista_exercicios_python.ipynb\" target=\"_parent\"><img src=\"https://colab.research.google.com/assets/colab-badge.svg\" alt=\"Open In Colab\"/></a>"
      ]
    },
    {
      "cell_type": "markdown",
      "metadata": {
        "id": "T3CoJiqTswLk"
      },
      "source": [
        "# Lista de exercícios de python"
      ]
    },
    {
      "cell_type": "markdown",
      "metadata": {
        "id": "AZAaIFh6s4C4"
      },
      "source": [
        "## Questão 1"
      ]
    },
    {
      "cell_type": "code",
      "metadata": {
        "id": "HtpugDnZs8il",
        "colab": {
          "base_uri": "https://localhost:8080/"
        },
        "outputId": "2d305826-d5af-4c65-86c0-96b86d07598d"
      },
      "source": [
        "tempC = float(input('digite uma temperatura em Celsius: '))\n",
        "tempF = tempC * (9 / 5) + 32\n",
        "print(str(tempC) + ' graus Celsius corresponde a ' + str(tempF) + ' graus Fahrenheit')"
      ],
      "execution_count": null,
      "outputs": [
        {
          "output_type": "stream",
          "name": "stdout",
          "text": [
            "digite uma temperatura em Celsius: 50\n",
            "50.0 graus Celsius corresponde a 122.0 graus Fahrenheit\n"
          ]
        }
      ]
    },
    {
      "cell_type": "markdown",
      "metadata": {
        "id": "prNAwebOxnoF"
      },
      "source": [
        "## Questão 2"
      ]
    },
    {
      "cell_type": "code",
      "metadata": {
        "id": "QOh8ZFlKyn_E",
        "colab": {
          "base_uri": "https://localhost:8080/"
        },
        "outputId": "9ef3ddef-324b-450e-cac3-cac88195b111"
      },
      "source": [
        "import math\n",
        "\n",
        "a = float(input('digite a '))\n",
        "b = float(input('digite b '))\n",
        "c = float(input('digite c '))\n",
        "\n",
        "delta = b**2-4*a*c\n",
        "\n",
        "if delta > 0:\n",
        "  x1 =(-b+math.sqrt(delta))/(2*a)\n",
        "  x2 =(-b-math.sqrt(delta))/(2*a)\n",
        "  print('2 raizes reais: ' + str(x1) + ' e ' + str(x2))\n",
        "\n",
        "elif delta == 0:\n",
        "  x1 =(-b)/(2*a)\n",
        "  x2 =x1\n",
        "  print('2 raizes reais e iguais: ' + str(x1) + ' e ' + str(x2))\n",
        "  \n",
        "else:\n",
        "  x1_re =(-b)/(2*a)\n",
        "  x1_im =(math.sqrt(-delta))/(2*a)\n",
        "  x2_re =x1_re\n",
        "  x2_im =(-math.sqrt(-delta))/(2*a)\n",
        "  print('2 raizes complexas: ' + str(x1_re) + ' + ' + str(x1_im) + 'i e ' + str(x2_re) + ' + ' + str(x2_im) + 'i')"
      ],
      "execution_count": null,
      "outputs": [
        {
          "output_type": "stream",
          "name": "stdout",
          "text": [
            "digite a 1\n",
            "digite b -5\n",
            "digite c 6\n",
            "2 raizes reais: 3.0 e 2.0\n"
          ]
        }
      ]
    },
    {
      "cell_type": "markdown",
      "metadata": {
        "id": "2oJ0oy84xoEp"
      },
      "source": [
        "## Questão 3"
      ]
    },
    {
      "cell_type": "code",
      "metadata": {
        "id": "83qEt3THypEa",
        "colab": {
          "base_uri": "https://localhost:8080/"
        },
        "outputId": "dbff2db7-4113-412c-9588-e034a82aa067"
      },
      "source": [
        "num = int(input('digite um numero: '))\n",
        "if num%2:\n",
        "  print(str(num) + ' é impar')\n",
        "else:\n",
        "  print(str(num) + ' é par')"
      ],
      "execution_count": null,
      "outputs": [
        {
          "output_type": "stream",
          "name": "stdout",
          "text": [
            "digite um numero: 51984457\n",
            "51984457 é impar\n"
          ]
        }
      ]
    },
    {
      "cell_type": "markdown",
      "metadata": {
        "id": "9lNu9elQxoLi"
      },
      "source": [
        "## Questão 4"
      ]
    },
    {
      "cell_type": "code",
      "metadata": {
        "id": "NaRyU_Kayqnq",
        "colab": {
          "base_uri": "https://localhost:8080/"
        },
        "outputId": "bd0354ab-0b62-4676-afc6-e88bde24f67c"
      },
      "source": [
        "def mru(v, t, s0=0):\n",
        "  return s0+v*t\n",
        "\n",
        "print(mru(3,5, s0=8))"
      ],
      "execution_count": null,
      "outputs": [
        {
          "output_type": "stream",
          "name": "stdout",
          "text": [
            "23\n"
          ]
        }
      ]
    },
    {
      "cell_type": "markdown",
      "metadata": {
        "id": "FNG0rjYoxoR3"
      },
      "source": [
        "## Questão 5"
      ]
    },
    {
      "cell_type": "code",
      "metadata": {
        "id": "nrf7VkdbyrQb",
        "colab": {
          "base_uri": "https://localhost:8080/"
        },
        "outputId": "6a09b25f-f9ea-4920-d788-cd4820f7fffc"
      },
      "source": [
        "a = input('entre com um string: ')\n",
        "if ('s' in a) or ('S' in a):\n",
        "  print('\"s\" esta contido na string')\n",
        "else:\n",
        "  print('\"s\" não esta contido na string')"
      ],
      "execution_count": null,
      "outputs": [
        {
          "output_type": "stream",
          "name": "stdout",
          "text": [
            "entre com um string: Sdfgrg\n",
            "\"s\" esta contido na string\n"
          ]
        }
      ]
    },
    {
      "cell_type": "markdown",
      "metadata": {
        "id": "dRBfxmWLxoYa"
      },
      "source": [
        "## Questão 6"
      ]
    },
    {
      "cell_type": "code",
      "metadata": {
        "id": "JwpDzZbaysHM",
        "colab": {
          "base_uri": "https://localhost:8080/"
        },
        "outputId": "9eae8be1-7829-40de-ae5f-f312387cdd19"
      },
      "source": [
        "n_prime = 0\n",
        "num = 0\n",
        "\n",
        "while (n_prime<100):\n",
        "\n",
        "  if num > 1:\n",
        " \n",
        "    for i in range(2, num//2+1):\n",
        " \n",
        "      if (num % i) == 0:\n",
        "        #print(num, \" não é um numero primo\")\n",
        "        num+=1\n",
        "        break\n",
        "    else:\n",
        "      n_prime+=1\n",
        "      print(num, \"é o\", n_prime, \"º numero primo\")\n",
        "      num+=1\n",
        " \n",
        "  else:\n",
        "    #print(num, \" não é um numero primo\")\n",
        "    num+=1"
      ],
      "execution_count": null,
      "outputs": [
        {
          "output_type": "stream",
          "name": "stdout",
          "text": [
            "2 é o 1 º numero primo\n",
            "3 é o 2 º numero primo\n",
            "5 é o 3 º numero primo\n",
            "7 é o 4 º numero primo\n",
            "11 é o 5 º numero primo\n",
            "13 é o 6 º numero primo\n",
            "17 é o 7 º numero primo\n",
            "19 é o 8 º numero primo\n",
            "23 é o 9 º numero primo\n",
            "29 é o 10 º numero primo\n",
            "31 é o 11 º numero primo\n",
            "37 é o 12 º numero primo\n",
            "41 é o 13 º numero primo\n",
            "43 é o 14 º numero primo\n",
            "47 é o 15 º numero primo\n",
            "53 é o 16 º numero primo\n",
            "59 é o 17 º numero primo\n",
            "61 é o 18 º numero primo\n",
            "67 é o 19 º numero primo\n",
            "71 é o 20 º numero primo\n",
            "73 é o 21 º numero primo\n",
            "79 é o 22 º numero primo\n",
            "83 é o 23 º numero primo\n",
            "89 é o 24 º numero primo\n",
            "97 é o 25 º numero primo\n",
            "101 é o 26 º numero primo\n",
            "103 é o 27 º numero primo\n",
            "107 é o 28 º numero primo\n",
            "109 é o 29 º numero primo\n",
            "113 é o 30 º numero primo\n",
            "127 é o 31 º numero primo\n",
            "131 é o 32 º numero primo\n",
            "137 é o 33 º numero primo\n",
            "139 é o 34 º numero primo\n",
            "149 é o 35 º numero primo\n",
            "151 é o 36 º numero primo\n",
            "157 é o 37 º numero primo\n",
            "163 é o 38 º numero primo\n",
            "167 é o 39 º numero primo\n",
            "173 é o 40 º numero primo\n",
            "179 é o 41 º numero primo\n",
            "181 é o 42 º numero primo\n",
            "191 é o 43 º numero primo\n",
            "193 é o 44 º numero primo\n",
            "197 é o 45 º numero primo\n",
            "199 é o 46 º numero primo\n",
            "211 é o 47 º numero primo\n",
            "223 é o 48 º numero primo\n",
            "227 é o 49 º numero primo\n",
            "229 é o 50 º numero primo\n",
            "233 é o 51 º numero primo\n",
            "239 é o 52 º numero primo\n",
            "241 é o 53 º numero primo\n",
            "251 é o 54 º numero primo\n",
            "257 é o 55 º numero primo\n",
            "263 é o 56 º numero primo\n",
            "269 é o 57 º numero primo\n",
            "271 é o 58 º numero primo\n",
            "277 é o 59 º numero primo\n",
            "281 é o 60 º numero primo\n",
            "283 é o 61 º numero primo\n",
            "293 é o 62 º numero primo\n",
            "307 é o 63 º numero primo\n",
            "311 é o 64 º numero primo\n",
            "313 é o 65 º numero primo\n",
            "317 é o 66 º numero primo\n",
            "331 é o 67 º numero primo\n",
            "337 é o 68 º numero primo\n",
            "347 é o 69 º numero primo\n",
            "349 é o 70 º numero primo\n",
            "353 é o 71 º numero primo\n",
            "359 é o 72 º numero primo\n",
            "367 é o 73 º numero primo\n",
            "373 é o 74 º numero primo\n",
            "379 é o 75 º numero primo\n",
            "383 é o 76 º numero primo\n",
            "389 é o 77 º numero primo\n",
            "397 é o 78 º numero primo\n",
            "401 é o 79 º numero primo\n",
            "409 é o 80 º numero primo\n",
            "419 é o 81 º numero primo\n",
            "421 é o 82 º numero primo\n",
            "431 é o 83 º numero primo\n",
            "433 é o 84 º numero primo\n",
            "439 é o 85 º numero primo\n",
            "443 é o 86 º numero primo\n",
            "449 é o 87 º numero primo\n",
            "457 é o 88 º numero primo\n",
            "461 é o 89 º numero primo\n",
            "463 é o 90 º numero primo\n",
            "467 é o 91 º numero primo\n",
            "479 é o 92 º numero primo\n",
            "487 é o 93 º numero primo\n",
            "491 é o 94 º numero primo\n",
            "499 é o 95 º numero primo\n",
            "503 é o 96 º numero primo\n",
            "509 é o 97 º numero primo\n",
            "521 é o 98 º numero primo\n",
            "523 é o 99 º numero primo\n",
            "541 é o 100 º numero primo\n"
          ]
        }
      ]
    },
    {
      "cell_type": "markdown",
      "metadata": {
        "id": "xm-rh8ezxofE"
      },
      "source": [
        "## Questão 7"
      ]
    },
    {
      "cell_type": "code",
      "metadata": {
        "id": "OQzSkws-ytYy",
        "colab": {
          "base_uri": "https://localhost:8080/"
        },
        "outputId": "288f5121-dcf1-46ac-d493-0fa8d28589de"
      },
      "source": [
        "nomes = [' marCELo', 'fabiana', ' MArta ', 'ELIAS']\n",
        "for i in range(len(nomes)):\n",
        "  nomes[i] = nomes[i].replace(' ', '')\n",
        "  nomes[i] = nomes[i].title()\n",
        "print(nomes)"
      ],
      "execution_count": null,
      "outputs": [
        {
          "output_type": "stream",
          "name": "stdout",
          "text": [
            "['Marcelo', 'Fabiana', 'Marta', 'Elias']\n"
          ]
        }
      ]
    },
    {
      "cell_type": "markdown",
      "metadata": {
        "id": "EKVpwSETxoly"
      },
      "source": [
        "## Questão 8"
      ]
    },
    {
      "cell_type": "code",
      "metadata": {
        "id": "JtuukFIWyusb",
        "colab": {
          "base_uri": "https://localhost:8080/"
        },
        "outputId": "98f5faeb-42f9-45ec-c873-7a8f127becb9"
      },
      "source": [
        "nomes = ['carlos', 'carlos', 'leonardo', 'carlos', 'roberto', 'maria', 'gabriela', 2, 2, 2, 3, 3, 4, 'guilherme', 'gustavo']\n",
        "nomes = list(dict.fromkeys(nomes))\n",
        "print(nomes)"
      ],
      "execution_count": null,
      "outputs": [
        {
          "output_type": "stream",
          "name": "stdout",
          "text": [
            "['carlos', 'leonardo', 'roberto', 'maria', 'gabriela', 2, 3, 4, 'guilherme', 'gustavo']\n"
          ]
        }
      ]
    },
    {
      "cell_type": "markdown",
      "metadata": {
        "id": "uhB4ZyJAxosr"
      },
      "source": [
        "## Questão 9"
      ]
    },
    {
      "cell_type": "code",
      "metadata": {
        "id": "5cyQOEhHyvXy",
        "colab": {
          "base_uri": "https://localhost:8080/"
        },
        "outputId": "5e0caa17-c19f-4653-8e45-4b7fcbfa939c"
      },
      "source": [
        " primeiro_nome = ['Pedro', 'Patricia', 'Lilian', 'Monica']\n",
        " ultimo_nome = ['Machado', 'Oliveira', 'Silva', 'Nunes']\n",
        "\n",
        " nome_completo = []\n",
        "\n",
        " for i in range(len(primeiro_nome)):\n",
        "   nome_completo.append(primeiro_nome[i] + ' ' + ultimo_nome[i])\n",
        "\n",
        "print(nome_completo)"
      ],
      "execution_count": null,
      "outputs": [
        {
          "output_type": "stream",
          "name": "stdout",
          "text": [
            "['Pedro Machado', 'Patricia Oliveira', 'Lilian Silva', 'Monica Nunes']\n"
          ]
        }
      ]
    },
    {
      "cell_type": "markdown",
      "metadata": {
        "id": "4g7D3bN7xoy3"
      },
      "source": [
        "## Questão 10"
      ]
    },
    {
      "cell_type": "code",
      "metadata": {
        "id": "Dc9AYo3lywBK",
        "colab": {
          "base_uri": "https://localhost:8080/"
        },
        "outputId": "921e3c05-e9ec-4947-a821-bc344aa77f52"
      },
      "source": [
        "lista = [1,12,13,6,7,9]\n",
        "lista_filtrada=[]\n",
        "for i in lista:\n",
        "  if i<10:\n",
        "    lista_filtrada.append(i)\n",
        "print(lista)\n",
        "print(lista_filtrada)"
      ],
      "execution_count": 11,
      "outputs": [
        {
          "output_type": "stream",
          "name": "stdout",
          "text": [
            "[1, 12, 13, 6, 7, 9]\n",
            "[1, 6, 7, 9]\n"
          ]
        }
      ]
    },
    {
      "cell_type": "markdown",
      "metadata": {
        "id": "C3kuopOpxo5h"
      },
      "source": [
        "## Questão 11"
      ]
    },
    {
      "cell_type": "code",
      "metadata": {
        "id": "Qb8CItB9yxMF",
        "colab": {
          "base_uri": "https://localhost:8080/"
        },
        "outputId": "bbe94267-d852-4fd5-9fa2-b0e6bf44a5f6"
      },
      "source": [
        " pessoas = { 'Marcelo': 'azul', 'Lilian': 'marrom', 'Bruna': 'azul', 'Leandro': 'marrom', 'Tadeu': 'verde'}\n",
        "\n",
        " for i in pessoas:\n",
        "   print('{} tem olhos {}'.format(i, pessoas.get(i)))"
      ],
      "execution_count": null,
      "outputs": [
        {
          "output_type": "stream",
          "name": "stdout",
          "text": [
            "Marcelo tem olhos azul\n",
            "Lilian tem olhos marrom\n",
            "Bruna tem olhos azul\n",
            "Leandro tem olhos marrom\n",
            "Tadeu tem olhos verde\n"
          ]
        }
      ]
    },
    {
      "cell_type": "markdown",
      "metadata": {
        "id": "tBiXIQPqxpAG"
      },
      "source": [
        "## Questão 12"
      ]
    },
    {
      "cell_type": "code",
      "metadata": {
        "id": "QWI4aMaFyx7J",
        "colab": {
          "base_uri": "https://localhost:8080/"
        },
        "outputId": "f96bd872-426d-4870-85d4-c080c6389f57"
      },
      "source": [
        "func2 = lambda x: 2*x-1\n",
        "\n",
        "lista_teste = [1,2,3,4,5,6,7,8,9]\n",
        "\n",
        "list(map(func2, lista_teste))"
      ],
      "execution_count": null,
      "outputs": [
        {
          "output_type": "execute_result",
          "data": {
            "text/plain": [
              "[1, 3, 5, 7, 9, 11, 13, 15, 17]"
            ]
          },
          "metadata": {},
          "execution_count": 8
        }
      ]
    },
    {
      "cell_type": "markdown",
      "metadata": {
        "id": "dmMADRoGxpGf"
      },
      "source": [
        "## Questão 13"
      ]
    },
    {
      "cell_type": "code",
      "metadata": {
        "id": "7-NZok0Kyyxj",
        "colab": {
          "base_uri": "https://localhost:8080/"
        },
        "outputId": "f380554d-5064-4203-f7e3-8d4d7b860466"
      },
      "source": [
        "import functools\n",
        "\n",
        "func3 = lambda x, y: x*y\n",
        "\n",
        "lista_teste = [1,2,3,4]\n",
        "\n",
        "print(functools.reduce(func3, lista_teste))"
      ],
      "execution_count": null,
      "outputs": [
        {
          "output_type": "stream",
          "name": "stdout",
          "text": [
            "24\n"
          ]
        }
      ]
    }
  ]
}